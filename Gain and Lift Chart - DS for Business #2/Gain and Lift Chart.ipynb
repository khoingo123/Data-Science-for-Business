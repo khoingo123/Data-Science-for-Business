{
  "nbformat": 4,
  "nbformat_minor": 0,
  "metadata": {
    "colab": {
      "name": "Targeting Current Customers.ipynb",
      "provenance": [],
      "collapsed_sections": []
    },
    "kernelspec": {
      "name": "python3",
      "display_name": "Python 3"
    },
    "language_info": {
      "name": "python"
    }
  },
  "cells": [
    {
      "cell_type": "code",
      "metadata": {
        "colab": {
          "base_uri": "https://localhost:8080/"
        },
        "id": "1ftIwWV41fQG",
        "outputId": "aa3afe17-2a74-47db-abcd-59b5c73891f9"
      },
      "source": [
        "!pip install lightgbm"
      ],
      "execution_count": 55,
      "outputs": [
        {
          "output_type": "stream",
          "text": [
            "Requirement already satisfied: lightgbm in /usr/local/lib/python3.7/dist-packages (2.2.3)\n",
            "Requirement already satisfied: scipy in /usr/local/lib/python3.7/dist-packages (from lightgbm) (1.4.1)\n",
            "Requirement already satisfied: scikit-learn in /usr/local/lib/python3.7/dist-packages (from lightgbm) (0.22.2.post1)\n",
            "Requirement already satisfied: numpy in /usr/local/lib/python3.7/dist-packages (from lightgbm) (1.19.5)\n",
            "Requirement already satisfied: joblib>=0.11 in /usr/local/lib/python3.7/dist-packages (from scikit-learn->lightgbm) (1.0.1)\n"
          ],
          "name": "stdout"
        }
      ]
    },
    {
      "cell_type": "code",
      "metadata": {
        "id": "CKnijN5a-Inn"
      },
      "source": [
        "import numpy as np\n",
        "import pandas as pd\n",
        "import seaborn as sns\n",
        "import matplotlib.pyplot as plt\n",
        "import lightgbm as lgbm"
      ],
      "execution_count": 56,
      "outputs": []
    },
    {
      "cell_type": "markdown",
      "metadata": {
        "id": "5hDyt48FLwB_"
      },
      "source": [
        "# Data Preprocess"
      ]
    },
    {
      "cell_type": "code",
      "metadata": {
        "colab": {
          "base_uri": "https://localhost:8080/",
          "height": 204
        },
        "id": "wniYzJQfLipy",
        "outputId": "cdb79d5d-5b88-4db2-bab9-70a325be7d71"
      },
      "source": [
        "data = pd.read_csv('https://raw.githubusercontent.com/mtpa/mds/master/MDS_Chapter_3/bank.csv', sep = ';')\n",
        "data.head()"
      ],
      "execution_count": 57,
      "outputs": [
        {
          "output_type": "execute_result",
          "data": {
            "text/html": [
              "<div>\n",
              "<style scoped>\n",
              "    .dataframe tbody tr th:only-of-type {\n",
              "        vertical-align: middle;\n",
              "    }\n",
              "\n",
              "    .dataframe tbody tr th {\n",
              "        vertical-align: top;\n",
              "    }\n",
              "\n",
              "    .dataframe thead th {\n",
              "        text-align: right;\n",
              "    }\n",
              "</style>\n",
              "<table border=\"1\" class=\"dataframe\">\n",
              "  <thead>\n",
              "    <tr style=\"text-align: right;\">\n",
              "      <th></th>\n",
              "      <th>age</th>\n",
              "      <th>job</th>\n",
              "      <th>marital</th>\n",
              "      <th>education</th>\n",
              "      <th>default</th>\n",
              "      <th>balance</th>\n",
              "      <th>housing</th>\n",
              "      <th>loan</th>\n",
              "      <th>contact</th>\n",
              "      <th>day</th>\n",
              "      <th>month</th>\n",
              "      <th>duration</th>\n",
              "      <th>campaign</th>\n",
              "      <th>pdays</th>\n",
              "      <th>previous</th>\n",
              "      <th>poutcome</th>\n",
              "      <th>response</th>\n",
              "    </tr>\n",
              "  </thead>\n",
              "  <tbody>\n",
              "    <tr>\n",
              "      <th>0</th>\n",
              "      <td>30</td>\n",
              "      <td>unemployed</td>\n",
              "      <td>married</td>\n",
              "      <td>primary</td>\n",
              "      <td>no</td>\n",
              "      <td>1787</td>\n",
              "      <td>no</td>\n",
              "      <td>no</td>\n",
              "      <td>cellular</td>\n",
              "      <td>19</td>\n",
              "      <td>oct</td>\n",
              "      <td>79</td>\n",
              "      <td>1</td>\n",
              "      <td>-1</td>\n",
              "      <td>0</td>\n",
              "      <td>unknown</td>\n",
              "      <td>no</td>\n",
              "    </tr>\n",
              "    <tr>\n",
              "      <th>1</th>\n",
              "      <td>33</td>\n",
              "      <td>services</td>\n",
              "      <td>married</td>\n",
              "      <td>secondary</td>\n",
              "      <td>no</td>\n",
              "      <td>4789</td>\n",
              "      <td>yes</td>\n",
              "      <td>yes</td>\n",
              "      <td>cellular</td>\n",
              "      <td>11</td>\n",
              "      <td>may</td>\n",
              "      <td>220</td>\n",
              "      <td>1</td>\n",
              "      <td>339</td>\n",
              "      <td>4</td>\n",
              "      <td>failure</td>\n",
              "      <td>no</td>\n",
              "    </tr>\n",
              "    <tr>\n",
              "      <th>2</th>\n",
              "      <td>35</td>\n",
              "      <td>management</td>\n",
              "      <td>single</td>\n",
              "      <td>tertiary</td>\n",
              "      <td>no</td>\n",
              "      <td>1350</td>\n",
              "      <td>yes</td>\n",
              "      <td>no</td>\n",
              "      <td>cellular</td>\n",
              "      <td>16</td>\n",
              "      <td>apr</td>\n",
              "      <td>185</td>\n",
              "      <td>1</td>\n",
              "      <td>330</td>\n",
              "      <td>1</td>\n",
              "      <td>failure</td>\n",
              "      <td>no</td>\n",
              "    </tr>\n",
              "    <tr>\n",
              "      <th>3</th>\n",
              "      <td>30</td>\n",
              "      <td>management</td>\n",
              "      <td>married</td>\n",
              "      <td>tertiary</td>\n",
              "      <td>no</td>\n",
              "      <td>1476</td>\n",
              "      <td>yes</td>\n",
              "      <td>yes</td>\n",
              "      <td>unknown</td>\n",
              "      <td>3</td>\n",
              "      <td>jun</td>\n",
              "      <td>199</td>\n",
              "      <td>4</td>\n",
              "      <td>-1</td>\n",
              "      <td>0</td>\n",
              "      <td>unknown</td>\n",
              "      <td>no</td>\n",
              "    </tr>\n",
              "    <tr>\n",
              "      <th>4</th>\n",
              "      <td>59</td>\n",
              "      <td>blue-collar</td>\n",
              "      <td>married</td>\n",
              "      <td>secondary</td>\n",
              "      <td>no</td>\n",
              "      <td>0</td>\n",
              "      <td>yes</td>\n",
              "      <td>no</td>\n",
              "      <td>unknown</td>\n",
              "      <td>5</td>\n",
              "      <td>may</td>\n",
              "      <td>226</td>\n",
              "      <td>1</td>\n",
              "      <td>-1</td>\n",
              "      <td>0</td>\n",
              "      <td>unknown</td>\n",
              "      <td>no</td>\n",
              "    </tr>\n",
              "  </tbody>\n",
              "</table>\n",
              "</div>"
            ],
            "text/plain": [
              "   age          job  marital  education  ... pdays  previous poutcome response\n",
              "0   30   unemployed  married    primary  ...    -1         0  unknown       no\n",
              "1   33     services  married  secondary  ...   339         4  failure       no\n",
              "2   35   management   single   tertiary  ...   330         1  failure       no\n",
              "3   30   management  married   tertiary  ...    -1         0  unknown       no\n",
              "4   59  blue-collar  married  secondary  ...    -1         0  unknown       no\n",
              "\n",
              "[5 rows x 17 columns]"
            ]
          },
          "metadata": {},
          "execution_count": 57
        }
      ]
    },
    {
      "cell_type": "code",
      "metadata": {
        "colab": {
          "base_uri": "https://localhost:8080/"
        },
        "id": "5qnAg_JLQ024",
        "outputId": "90ccd60d-0f26-4dbe-8d8c-64c5b80eef19"
      },
      "source": [
        "data.info()"
      ],
      "execution_count": 58,
      "outputs": [
        {
          "output_type": "stream",
          "text": [
            "<class 'pandas.core.frame.DataFrame'>\n",
            "RangeIndex: 4521 entries, 0 to 4520\n",
            "Data columns (total 17 columns):\n",
            " #   Column     Non-Null Count  Dtype \n",
            "---  ------     --------------  ----- \n",
            " 0   age        4521 non-null   int64 \n",
            " 1   job        4521 non-null   object\n",
            " 2   marital    4521 non-null   object\n",
            " 3   education  4521 non-null   object\n",
            " 4   default    4521 non-null   object\n",
            " 5   balance    4521 non-null   int64 \n",
            " 6   housing    4521 non-null   object\n",
            " 7   loan       4521 non-null   object\n",
            " 8   contact    4521 non-null   object\n",
            " 9   day        4521 non-null   int64 \n",
            " 10  month      4521 non-null   object\n",
            " 11  duration   4521 non-null   int64 \n",
            " 12  campaign   4521 non-null   int64 \n",
            " 13  pdays      4521 non-null   int64 \n",
            " 14  previous   4521 non-null   int64 \n",
            " 15  poutcome   4521 non-null   object\n",
            " 16  response   4521 non-null   object\n",
            "dtypes: int64(7), object(10)\n",
            "memory usage: 600.6+ KB\n"
          ],
          "name": "stdout"
        }
      ]
    },
    {
      "cell_type": "markdown",
      "metadata": {
        "id": "Z9lQasSvNVzQ"
      },
      "source": [
        "**\"age\" column**"
      ]
    },
    {
      "cell_type": "code",
      "metadata": {
        "colab": {
          "base_uri": "https://localhost:8080/",
          "height": 411
        },
        "id": "p9K7tDwfMCad",
        "outputId": "d4621542-6e1a-4a1d-b35a-50bb73a0bdd6"
      },
      "source": [
        "sns.histplot(data=data, x=\"age\")"
      ],
      "execution_count": 59,
      "outputs": [
        {
          "output_type": "execute_result",
          "data": {
            "text/plain": [
              "<matplotlib.axes._subplots.AxesSubplot at 0x7fd29657c890>"
            ]
          },
          "metadata": {},
          "execution_count": 59
        },
        {
          "output_type": "display_data",
          "data": {
            "image/png": "[encoded data removed]",
            "text/plain": [
              "<Figure size 864x432 with 1 Axes>"
            ]
          },
          "metadata": {}
        }
      ]
    },
    {
      "cell_type": "markdown",
      "metadata": {
        "id": "rDOy7w4CPRdZ"
      },
      "source": [
        "**\"job\" column**"
      ]
    },
    {
      "cell_type": "code",
      "metadata": {
        "colab": {
          "base_uri": "https://localhost:8080/",
          "height": 480
        },
        "id": "IKnZ2p-BNjTU",
        "outputId": "63176fce-c284-40d0-d0e2-08907213ca74"
      },
      "source": [
        "sns.set(rc={'figure.figsize':(12, 6)})\n",
        "sns.countplot(x=\"job\", hue=\"response\", data=data)\n",
        "plt.xticks(rotation=45)"
      ],
      "execution_count": 60,
      "outputs": [
        {
          "output_type": "execute_result",
          "data": {
            "text/plain": [
              "(array([ 0,  1,  2,  3,  4,  5,  6,  7,  8,  9, 10, 11]),\n",
              " <a list of 12 Text major ticklabel objects>)"
            ]
          },
          "metadata": {},
          "execution_count": 60
        },
        {
          "output_type": "display_data",
          "data": {
            "image/png": "[encoded data removed]",
            "text/plain": [
              "<Figure size 864x432 with 1 Axes>"
            ]
          },
          "metadata": {}
        }
      ]
    },
    {
      "cell_type": "code",
      "metadata": {
        "id": "A4Nf68WOOMhg"
      },
      "source": [
        "# define jobtype variable\n",
        "job_to_jobtype = {'admin.':'White Collar',\n",
        "    'entrepreneur':'White Collar',\n",
        "    'management':'White Collar',\n",
        "    'self-employed':'White Collar',\n",
        "    'blue-collar':'Blue Collar',\n",
        "    'services':'Blue Collar',\n",
        "    'technician':'Blue Collar'}\n",
        "data['jobtype'] = data['job'].map(job_to_jobtype)\n",
        "data['jobtype'] = data['jobtype'].fillna('Other/Unknown')"
      ],
      "execution_count": 61,
      "outputs": []
    },
    {
      "cell_type": "markdown",
      "metadata": {
        "id": "fDFonWAOPxB4"
      },
      "source": [
        "**\"marital status\" column**"
      ]
    },
    {
      "cell_type": "code",
      "metadata": {
        "id": "lP_5T1fpPofk"
      },
      "source": [
        "# set marital variable\n",
        "marital_to_label = {'divorced':'Divorced',\n",
        "    'married':'Married',\n",
        "    'single':'Single'}\n",
        "data['marital'] = data['marital'].map(marital_to_label)\n",
        "data['marital'] = data['marital'].fillna('Unknown')"
      ],
      "execution_count": 62,
      "outputs": []
    },
    {
      "cell_type": "markdown",
      "metadata": {
        "id": "OfZT254555um"
      },
      "source": [
        "**\"education\" column**"
      ]
    },
    {
      "cell_type": "code",
      "metadata": {
        "id": "aLGM-4QdQeuo"
      },
      "source": [
        "# set education variable\n",
        "education_to_label = {'primary':'Primary',\\\n",
        "    'secondary':'Secondary',\\\n",
        "    'tertiary':'Tertiary'}\n",
        "data['education'] = data['education'].map(education_to_label)\n",
        "data['education'] = data['education'].fillna('Unknown')"
      ],
      "execution_count": 63,
      "outputs": []
    },
    {
      "cell_type": "markdown",
      "metadata": {
        "id": "oRQt23Ms6IG0"
      },
      "source": [
        "**\"default\", \"housing\" and \"loan\" column**"
      ]
    },
    {
      "cell_type": "code",
      "metadata": {
        "id": "R-Yw8fUZ6B_B"
      },
      "source": [
        "# set no/yes variable labels\n",
        "noyes_to_label = {'no':'No', 'yes':'Yes'}\n",
        "data['default'] = data['default'].map(noyes_to_label)\n",
        "data['default'] = data['default'].fillna('No')\n",
        "\n",
        "data['housing'] = data['housing'].map(noyes_to_label)\n",
        "data['housing'] = data['housing'].fillna('No')\n",
        "\n",
        "data['loan'] = data['loan'].map(noyes_to_label)\n",
        "data['loan'] = data['loan'].fillna('No')"
      ],
      "execution_count": 64,
      "outputs": []
    },
    {
      "cell_type": "markdown",
      "metadata": {
        "id": "mWottUoR6YHs"
      },
      "source": [
        "**\"response\" column**"
      ]
    },
    {
      "cell_type": "code",
      "metadata": {
        "id": "knnMwKwP6VIM"
      },
      "source": [
        "# code response as binary variable\n",
        "noyes_to_binary = {'no':0, 'yes':1}\n",
        "data['response'] = data['response'].map(noyes_to_binary)\n",
        "data['response'] = data['response'].fillna('No')"
      ],
      "execution_count": 65,
      "outputs": []
    },
    {
      "cell_type": "markdown",
      "metadata": {
        "id": "aw1EtbS27B30"
      },
      "source": [
        "**Create a clean df**"
      ]
    },
    {
      "cell_type": "code",
      "metadata": {
        "colab": {
          "base_uri": "https://localhost:8080/",
          "height": 204
        },
        "id": "M0-26Neo6dHl",
        "outputId": "881189a4-6282-414f-d6e4-71d410190054"
      },
      "source": [
        "clean_df = data[['response','age','jobtype', 'education',  'marital', 'default', 'balance', 'housing', 'loan']].reset_index(drop=True)\n",
        "clean_df.head()"
      ],
      "execution_count": 66,
      "outputs": [
        {
          "output_type": "execute_result",
          "data": {
            "text/html": [
              "<div>\n",
              "<style scoped>\n",
              "    .dataframe tbody tr th:only-of-type {\n",
              "        vertical-align: middle;\n",
              "    }\n",
              "\n",
              "    .dataframe tbody tr th {\n",
              "        vertical-align: top;\n",
              "    }\n",
              "\n",
              "    .dataframe thead th {\n",
              "        text-align: right;\n",
              "    }\n",
              "</style>\n",
              "<table border=\"1\" class=\"dataframe\">\n",
              "  <thead>\n",
              "    <tr style=\"text-align: right;\">\n",
              "      <th></th>\n",
              "      <th>response</th>\n",
              "      <th>age</th>\n",
              "      <th>jobtype</th>\n",
              "      <th>education</th>\n",
              "      <th>marital</th>\n",
              "      <th>default</th>\n",
              "      <th>balance</th>\n",
              "      <th>housing</th>\n",
              "      <th>loan</th>\n",
              "    </tr>\n",
              "  </thead>\n",
              "  <tbody>\n",
              "    <tr>\n",
              "      <th>0</th>\n",
              "      <td>0</td>\n",
              "      <td>30</td>\n",
              "      <td>Other/Unknown</td>\n",
              "      <td>Primary</td>\n",
              "      <td>Married</td>\n",
              "      <td>No</td>\n",
              "      <td>1787</td>\n",
              "      <td>No</td>\n",
              "      <td>No</td>\n",
              "    </tr>\n",
              "    <tr>\n",
              "      <th>1</th>\n",
              "      <td>0</td>\n",
              "      <td>33</td>\n",
              "      <td>Blue Collar</td>\n",
              "      <td>Secondary</td>\n",
              "      <td>Married</td>\n",
              "      <td>No</td>\n",
              "      <td>4789</td>\n",
              "      <td>Yes</td>\n",
              "      <td>Yes</td>\n",
              "    </tr>\n",
              "    <tr>\n",
              "      <th>2</th>\n",
              "      <td>0</td>\n",
              "      <td>35</td>\n",
              "      <td>White Collar</td>\n",
              "      <td>Tertiary</td>\n",
              "      <td>Single</td>\n",
              "      <td>No</td>\n",
              "      <td>1350</td>\n",
              "      <td>Yes</td>\n",
              "      <td>No</td>\n",
              "    </tr>\n",
              "    <tr>\n",
              "      <th>3</th>\n",
              "      <td>0</td>\n",
              "      <td>30</td>\n",
              "      <td>White Collar</td>\n",
              "      <td>Tertiary</td>\n",
              "      <td>Married</td>\n",
              "      <td>No</td>\n",
              "      <td>1476</td>\n",
              "      <td>Yes</td>\n",
              "      <td>Yes</td>\n",
              "    </tr>\n",
              "    <tr>\n",
              "      <th>4</th>\n",
              "      <td>0</td>\n",
              "      <td>59</td>\n",
              "      <td>Blue Collar</td>\n",
              "      <td>Secondary</td>\n",
              "      <td>Married</td>\n",
              "      <td>No</td>\n",
              "      <td>0</td>\n",
              "      <td>Yes</td>\n",
              "      <td>No</td>\n",
              "    </tr>\n",
              "  </tbody>\n",
              "</table>\n",
              "</div>"
            ],
            "text/plain": [
              "   response  age        jobtype  education  ... default balance  housing loan\n",
              "0         0   30  Other/Unknown    Primary  ...      No    1787       No   No\n",
              "1         0   33    Blue Collar  Secondary  ...      No    4789      Yes  Yes\n",
              "2         0   35   White Collar   Tertiary  ...      No    1350      Yes   No\n",
              "3         0   30   White Collar   Tertiary  ...      No    1476      Yes  Yes\n",
              "4         0   59    Blue Collar  Secondary  ...      No       0      Yes   No\n",
              "\n",
              "[5 rows x 9 columns]"
            ]
          },
          "metadata": {},
          "execution_count": 66
        }
      ]
    },
    {
      "cell_type": "code",
      "metadata": {
        "id": "lLJZGV3b76ON"
      },
      "source": [
        "cat_cols = ['jobtype', 'education', 'marital', 'housing', 'loan']\n",
        "for col in cat_cols:\n",
        "    clean_df[col] = clean_df[col].astype('category')"
      ],
      "execution_count": 67,
      "outputs": []
    },
    {
      "cell_type": "code",
      "metadata": {
        "id": "mx_jOrGG5QXA"
      },
      "source": [
        "from sklearn.model_selection import train_test_split\n",
        "X = clean_df.drop(['response', 'default'], axis=1)\n",
        "y = clean_df['response']\n",
        "\n",
        "X, X_test, y, y_test = train_test_split(X, y, test_size=0.25)\n",
        "\n",
        "X.reset_index(drop=True, inplace=True)\n",
        "y.reset_index(drop=True, inplace=True)"
      ],
      "execution_count": 68,
      "outputs": []
    },
    {
      "cell_type": "code",
      "metadata": {
        "colab": {
          "base_uri": "https://localhost:8080/",
          "height": 1000
        },
        "id": "eKtsNLpb4BYc",
        "outputId": "bb0f2c51-2406-42ef-8173-0a4c3d936454"
      },
      "source": [
        "from sklearn.metrics import roc_auc_score\n",
        "from sklearn.model_selection import KFold\n",
        "\n",
        "params = {\n",
        "      \"objective\": \"binary\", \n",
        "      \"metric\": \"auc\"\n",
        "  }\n",
        "\n",
        "kfold = KFold(n_splits=5, shuffle=True)\n",
        "models = []\n",
        "feature_importance = 0\n",
        "score = 0 \n",
        "\n",
        "for fold, (train_idx, val_idx) in enumerate(kfold.split(X, y)):\n",
        "\n",
        "    print(\"Fold :\", fold + 1)\n",
        "    \n",
        "    # Create dataset\n",
        "    X_train, y_train = X.loc[train_idx], y[train_idx]\n",
        "    X_valid, y_valid = X.loc[val_idx], y[val_idx]\n",
        "\n",
        "    #RMSPE weight\n",
        "    lgbm_train = lgbm.Dataset(X_train, y_train, categorical_feature = cat_cols)\n",
        "    lgbm_valid = lgbm.Dataset(X_valid, y_valid, reference = lgbm_train, categorical_feature = cat_cols)\n",
        "    \n",
        "    # model \n",
        "    model = lgbm.train(params=params,\n",
        "                      train_set=lgbm_train,\n",
        "                      valid_sets=lgbm_valid,\n",
        "                      num_boost_round=2000,\n",
        "                      verbose_eval=100,\n",
        "                      early_stopping_rounds=30\n",
        "                     )\n",
        "    \n",
        "    # validation \n",
        "    y_pred = model.predict(X_valid)\n",
        "    auc = roc_auc_score(y_valid, y_pred)\n",
        "    print(f'Performance of the　prediction: , AUC: {auc}')\n",
        "\n",
        "    #keep scores and models\n",
        "    score += auc / 5\n",
        "    models.append(model)\n",
        "    feature_importance += model.feature_importance() / 5\n",
        "    print(\"*\" * 100)\n",
        "\n",
        "print(f'Final score: {score}')\n",
        "\n",
        "feature_importance_df = pd.DataFrame(data={'columns': X.columns, 'feature_importance': feature_importance}).sort_values(by='feature_importance', ascending=False)\n",
        "sns.barplot(data=feature_importance_df, x='feature_importance', y='columns')"
      ],
      "execution_count": 69,
      "outputs": [
        {
          "output_type": "stream",
          "text": [
            "Fold : 1\n",
            "Training until validation scores don't improve for 30 rounds.\n",
            "Early stopping, best iteration is:\n",
            "[10]\tvalid_0's auc: 0.685883\n",
            "Performance of the　prediction: , AUC: 0.6858830080980114\n",
            "****************************************************************************************************\n",
            "Fold : 2\n",
            "Training until validation scores don't improve for 30 rounds.\n",
            "Early stopping, best iteration is:\n",
            "[22]\tvalid_0's auc: 0.641106\n",
            "Performance of the　prediction: , AUC: 0.6411055988660523\n",
            "****************************************************************************************************\n",
            "Fold : 3"
          ],
          "name": "stdout"
        },
        {
          "output_type": "stream",
          "text": [
            "/usr/local/lib/python3.7/dist-packages/lightgbm/basic.py:1205: UserWarning: Using categorical_feature in Dataset.\n",
            "  warnings.warn('Using categorical_feature in Dataset.')\n",
            "/usr/local/lib/python3.7/dist-packages/lightgbm/basic.py:762: UserWarning: categorical_feature in param dict is overridden.\n",
            "  warnings.warn('categorical_feature in param dict is overridden.')\n",
            "/usr/local/lib/python3.7/dist-packages/lightgbm/basic.py:1205: UserWarning: Using categorical_feature in Dataset.\n",
            "  warnings.warn('Using categorical_feature in Dataset.')\n",
            "/usr/local/lib/python3.7/dist-packages/lightgbm/basic.py:762: UserWarning: categorical_feature in param dict is overridden.\n",
            "  warnings.warn('categorical_feature in param dict is overridden.')\n"
          ],
          "name": "stderr"
        },
        {
          "output_type": "stream",
          "text": [
            "\n",
            "Training until validation scores don't improve for 30 rounds.\n",
            "Early stopping, best iteration is:\n",
            "[7]\tvalid_0's auc: 0.612608\n",
            "Performance of the　prediction: , AUC: 0.6126078762027577\n",
            "****************************************************************************************************\n",
            "Fold : 4\n",
            "Training until validation scores don't improve for 30 rounds.\n",
            "Early stopping, best iteration is:\n",
            "[2]\tvalid_0's auc: 0.661122\n",
            "Performance of the　prediction: , AUC: 0.6611217948717948\n",
            "****************************************************************************************************\n",
            "Fold : 5\n"
          ],
          "name": "stdout"
        },
        {
          "output_type": "stream",
          "text": [
            "/usr/local/lib/python3.7/dist-packages/lightgbm/basic.py:1205: UserWarning: Using categorical_feature in Dataset.\n",
            "  warnings.warn('Using categorical_feature in Dataset.')\n",
            "/usr/local/lib/python3.7/dist-packages/lightgbm/basic.py:762: UserWarning: categorical_feature in param dict is overridden.\n",
            "  warnings.warn('categorical_feature in param dict is overridden.')\n",
            "/usr/local/lib/python3.7/dist-packages/lightgbm/basic.py:1205: UserWarning: Using categorical_feature in Dataset.\n",
            "  warnings.warn('Using categorical_feature in Dataset.')\n",
            "/usr/local/lib/python3.7/dist-packages/lightgbm/basic.py:762: UserWarning: categorical_feature in param dict is overridden.\n",
            "  warnings.warn('categorical_feature in param dict is overridden.')\n",
            "/usr/local/lib/python3.7/dist-packages/lightgbm/basic.py:1205: UserWarning: Using categorical_feature in Dataset.\n",
            "  warnings.warn('Using categorical_feature in Dataset.')\n",
            "/usr/local/lib/python3.7/dist-packages/lightgbm/basic.py:762: UserWarning: categorical_feature in param dict is overridden.\n",
            "  warnings.warn('categorical_feature in param dict is overridden.')\n"
          ],
          "name": "stderr"
        },
        {
          "output_type": "stream",
          "text": [
            "Training until validation scores don't improve for 30 rounds.\n",
            "Early stopping, best iteration is:\n",
            "[35]\tvalid_0's auc: 0.590336\n",
            "Performance of the　prediction: , AUC: 0.590335784488708\n",
            "****************************************************************************************************\n",
            "Final score: 0.6382108125054649\n"
          ],
          "name": "stdout"
        },
        {
          "output_type": "execute_result",
          "data": {
            "text/plain": [
              "<matplotlib.axes._subplots.AxesSubplot at 0x7fd296413590>"
            ]
          },
          "metadata": {},
          "execution_count": 69
        },
        {
          "output_type": "display_data",
          "data": {
            "image/png": "[encoded data removed]",
            "text/plain": [
              "<Figure size 864x432 with 1 Axes>"
            ]
          },
          "metadata": {}
        }
      ]
    },
    {
      "cell_type": "code",
      "metadata": {
        "id": "7DipbHHeBh2i"
      },
      "source": [
        "y_pred = 0\n",
        "for model in models:\n",
        "    y_pred += model.predict(X)/5"
      ],
      "execution_count": 70,
      "outputs": []
    },
    {
      "cell_type": "code",
      "metadata": {
        "colab": {
          "base_uri": "https://localhost:8080/",
          "height": 410
        },
        "id": "ElkUfmohb0EV",
        "outputId": "f86035f8-3e3c-4901-ccf5-a25d552e2039"
      },
      "source": [
        "from sklearn.metrics import roc_curve\n",
        "fpr, tpr, thresholds = roc_curve(y, y_pred)\n",
        "plt.plot(fpr, tpr)\n",
        "plt.title(\"ROC Curve\")\n",
        "plt.xlabel(\"False Positive Rate\")\n",
        "plt.ylabel(\"True Positive Rate\")\n",
        "plt.show()"
      ],
      "execution_count": 71,
      "outputs": [
        {
          "output_type": "display_data",
          "data": {
            "image/png": "[encoded data removed]",
            "text/plain": [
              "<Figure size 864x432 with 1 Axes>"
            ]
          },
          "metadata": {}
        }
      ]
    },
    {
      "cell_type": "markdown",
      "metadata": {
        "id": "zAYRlKFkyibk"
      },
      "source": [
        "# Lift chart"
      ]
    },
    {
      "cell_type": "code",
      "metadata": {
        "id": "3uicAWkWgZAl"
      },
      "source": [
        "final_pred = 0\n",
        "for model in models:\n",
        "    final_pred += model.predict(X_test)/5"
      ],
      "execution_count": 72,
      "outputs": []
    },
    {
      "cell_type": "code",
      "metadata": {
        "colab": {
          "base_uri": "https://localhost:8080/",
          "height": 204
        },
        "id": "LLT_L55NyacX",
        "outputId": "c7a8abbd-fea0-4e6a-b7fe-2edf3baa14bb"
      },
      "source": [
        "X_test['true_y'] = y_test\n",
        "X_test['prob_y'] = final_pred\n",
        "X_test.sort_values(by='prob_y', ascending=False, inplace=True)\n",
        "X_test.reset_index(drop=True, inplace=True)\n",
        "X_test.head()"
      ],
      "execution_count": 73,
      "outputs": [
        {
          "output_type": "execute_result",
          "data": {
            "text/html": [
              "<div>\n",
              "<style scoped>\n",
              "    .dataframe tbody tr th:only-of-type {\n",
              "        vertical-align: middle;\n",
              "    }\n",
              "\n",
              "    .dataframe tbody tr th {\n",
              "        vertical-align: top;\n",
              "    }\n",
              "\n",
              "    .dataframe thead th {\n",
              "        text-align: right;\n",
              "    }\n",
              "</style>\n",
              "<table border=\"1\" class=\"dataframe\">\n",
              "  <thead>\n",
              "    <tr style=\"text-align: right;\">\n",
              "      <th></th>\n",
              "      <th>age</th>\n",
              "      <th>jobtype</th>\n",
              "      <th>education</th>\n",
              "      <th>marital</th>\n",
              "      <th>balance</th>\n",
              "      <th>housing</th>\n",
              "      <th>loan</th>\n",
              "      <th>true_y</th>\n",
              "      <th>prob_y</th>\n",
              "    </tr>\n",
              "  </thead>\n",
              "  <tbody>\n",
              "    <tr>\n",
              "      <th>0</th>\n",
              "      <td>70</td>\n",
              "      <td>Other/Unknown</td>\n",
              "      <td>Tertiary</td>\n",
              "      <td>Married</td>\n",
              "      <td>15834</td>\n",
              "      <td>No</td>\n",
              "      <td>No</td>\n",
              "      <td>0</td>\n",
              "      <td>0.442621</td>\n",
              "    </tr>\n",
              "    <tr>\n",
              "      <th>1</th>\n",
              "      <td>66</td>\n",
              "      <td>White Collar</td>\n",
              "      <td>Secondary</td>\n",
              "      <td>Single</td>\n",
              "      <td>10177</td>\n",
              "      <td>No</td>\n",
              "      <td>No</td>\n",
              "      <td>0</td>\n",
              "      <td>0.425534</td>\n",
              "    </tr>\n",
              "    <tr>\n",
              "      <th>2</th>\n",
              "      <td>75</td>\n",
              "      <td>Other/Unknown</td>\n",
              "      <td>Secondary</td>\n",
              "      <td>Married</td>\n",
              "      <td>26452</td>\n",
              "      <td>No</td>\n",
              "      <td>No</td>\n",
              "      <td>0</td>\n",
              "      <td>0.424973</td>\n",
              "    </tr>\n",
              "    <tr>\n",
              "      <th>3</th>\n",
              "      <td>66</td>\n",
              "      <td>White Collar</td>\n",
              "      <td>Tertiary</td>\n",
              "      <td>Single</td>\n",
              "      <td>6483</td>\n",
              "      <td>No</td>\n",
              "      <td>No</td>\n",
              "      <td>0</td>\n",
              "      <td>0.422947</td>\n",
              "    </tr>\n",
              "    <tr>\n",
              "      <th>4</th>\n",
              "      <td>61</td>\n",
              "      <td>White Collar</td>\n",
              "      <td>Tertiary</td>\n",
              "      <td>Married</td>\n",
              "      <td>6016</td>\n",
              "      <td>No</td>\n",
              "      <td>No</td>\n",
              "      <td>1</td>\n",
              "      <td>0.411005</td>\n",
              "    </tr>\n",
              "  </tbody>\n",
              "</table>\n",
              "</div>"
            ],
            "text/plain": [
              "   age        jobtype  education  marital  ...  housing loan true_y    prob_y\n",
              "0   70  Other/Unknown   Tertiary  Married  ...       No   No      0  0.442621\n",
              "1   66   White Collar  Secondary   Single  ...       No   No      0  0.425534\n",
              "2   75  Other/Unknown  Secondary  Married  ...       No   No      0  0.424973\n",
              "3   66   White Collar   Tertiary   Single  ...       No   No      0  0.422947\n",
              "4   61   White Collar   Tertiary  Married  ...       No   No      1  0.411005\n",
              "\n",
              "[5 rows x 9 columns]"
            ]
          },
          "metadata": {},
          "execution_count": 73
        }
      ]
    },
    {
      "cell_type": "code",
      "metadata": {
        "colab": {
          "base_uri": "https://localhost:8080/",
          "height": 376
        },
        "id": "cXKbRPe91ZyS",
        "outputId": "d67c2f3e-2ca2-49b5-d7e9-230c27301390"
      },
      "source": [
        "num_positives = (y_test==1).sum()\n",
        "decile = [i * 0.1 for i in list(range(1, 11))]\n",
        "num_obs = [len(X_test)/10 for _ in range(10)]\n",
        "positive_response_using_model = [(X_test.loc[len(X_test) * (i - 0.1) : len(X_test) * i, 'true_y'] == 1).sum() for i in decile]\n",
        "cumulative_positive_response_using_model = [(X_test.loc[0 : len(X_test) * i, 'true_y'] == 1).sum() for i in decile]\n",
        "gain_df = pd.DataFrame(data={'Decile': decile,\n",
        "                             'Number of Observations divided into 10 sections': num_obs,\n",
        "                             'Positive Response using Model [X]': positive_response_using_model,\n",
        "                             'Cumulative Positive Response using Model': cumulative_positive_response_using_model})\n",
        "\n",
        "gain_df['Gain Score of individual decile [Xi/Total]'] = gain_df['Positive Response using Model [X]'] / num_positives\n",
        "gain_df['Gain'] = np.cumsum(gain_df['Gain Score of individual decile [Xi/Total]'])\n",
        "gain_df['Gain'] = round(gain_df['Gain'], 2)\n",
        "gain_df['Gain Score of individual decile [Xi/Total]'] = round(gain_df['Gain Score of individual decile [Xi/Total]'], 2)\n",
        "gain_df.style.set_table_styles([dict(selector=\"th\",props=[('max-width', '30px')])])\n",
        "\n",
        "gain_df"
      ],
      "execution_count": 74,
      "outputs": [
        {
          "output_type": "execute_result",
          "data": {
            "text/html": [
              "<div>\n",
              "<style scoped>\n",
              "    .dataframe tbody tr th:only-of-type {\n",
              "        vertical-align: middle;\n",
              "    }\n",
              "\n",
              "    .dataframe tbody tr th {\n",
              "        vertical-align: top;\n",
              "    }\n",
              "\n",
              "    .dataframe thead th {\n",
              "        text-align: right;\n",
              "    }\n",
              "</style>\n",
              "<table border=\"1\" class=\"dataframe\">\n",
              "  <thead>\n",
              "    <tr style=\"text-align: right;\">\n",
              "      <th></th>\n",
              "      <th>Decile</th>\n",
              "      <th>Number of Observations divided into 10 sections</th>\n",
              "      <th>Positive Response using Model [X]</th>\n",
              "      <th>Cumulative Positive Response using Model</th>\n",
              "      <th>Gain Score of individual decile [Xi/Total]</th>\n",
              "      <th>Gain</th>\n",
              "    </tr>\n",
              "  </thead>\n",
              "  <tbody>\n",
              "    <tr>\n",
              "      <th>0</th>\n",
              "      <td>0.1</td>\n",
              "      <td>113.1</td>\n",
              "      <td>27</td>\n",
              "      <td>27</td>\n",
              "      <td>0.20</td>\n",
              "      <td>0.20</td>\n",
              "    </tr>\n",
              "    <tr>\n",
              "      <th>1</th>\n",
              "      <td>0.2</td>\n",
              "      <td>113.1</td>\n",
              "      <td>24</td>\n",
              "      <td>51</td>\n",
              "      <td>0.18</td>\n",
              "      <td>0.38</td>\n",
              "    </tr>\n",
              "    <tr>\n",
              "      <th>2</th>\n",
              "      <td>0.3</td>\n",
              "      <td>113.1</td>\n",
              "      <td>14</td>\n",
              "      <td>65</td>\n",
              "      <td>0.10</td>\n",
              "      <td>0.48</td>\n",
              "    </tr>\n",
              "    <tr>\n",
              "      <th>3</th>\n",
              "      <td>0.4</td>\n",
              "      <td>113.1</td>\n",
              "      <td>12</td>\n",
              "      <td>77</td>\n",
              "      <td>0.09</td>\n",
              "      <td>0.57</td>\n",
              "    </tr>\n",
              "    <tr>\n",
              "      <th>4</th>\n",
              "      <td>0.5</td>\n",
              "      <td>113.1</td>\n",
              "      <td>11</td>\n",
              "      <td>88</td>\n",
              "      <td>0.08</td>\n",
              "      <td>0.65</td>\n",
              "    </tr>\n",
              "    <tr>\n",
              "      <th>5</th>\n",
              "      <td>0.6</td>\n",
              "      <td>113.1</td>\n",
              "      <td>10</td>\n",
              "      <td>98</td>\n",
              "      <td>0.07</td>\n",
              "      <td>0.73</td>\n",
              "    </tr>\n",
              "    <tr>\n",
              "      <th>6</th>\n",
              "      <td>0.7</td>\n",
              "      <td>113.1</td>\n",
              "      <td>14</td>\n",
              "      <td>112</td>\n",
              "      <td>0.10</td>\n",
              "      <td>0.83</td>\n",
              "    </tr>\n",
              "    <tr>\n",
              "      <th>7</th>\n",
              "      <td>0.8</td>\n",
              "      <td>113.1</td>\n",
              "      <td>10</td>\n",
              "      <td>122</td>\n",
              "      <td>0.07</td>\n",
              "      <td>0.90</td>\n",
              "    </tr>\n",
              "    <tr>\n",
              "      <th>8</th>\n",
              "      <td>0.9</td>\n",
              "      <td>113.1</td>\n",
              "      <td>8</td>\n",
              "      <td>130</td>\n",
              "      <td>0.06</td>\n",
              "      <td>0.96</td>\n",
              "    </tr>\n",
              "    <tr>\n",
              "      <th>9</th>\n",
              "      <td>1.0</td>\n",
              "      <td>113.1</td>\n",
              "      <td>5</td>\n",
              "      <td>135</td>\n",
              "      <td>0.04</td>\n",
              "      <td>1.00</td>\n",
              "    </tr>\n",
              "  </tbody>\n",
              "</table>\n",
              "</div>"
            ],
            "text/plain": [
              "   Decile  ...  Gain\n",
              "0     0.1  ...  0.20\n",
              "1     0.2  ...  0.38\n",
              "2     0.3  ...  0.48\n",
              "3     0.4  ...  0.57\n",
              "4     0.5  ...  0.65\n",
              "5     0.6  ...  0.73\n",
              "6     0.7  ...  0.83\n",
              "7     0.8  ...  0.90\n",
              "8     0.9  ...  0.96\n",
              "9     1.0  ...  1.00\n",
              "\n",
              "[10 rows x 6 columns]"
            ]
          },
          "metadata": {},
          "execution_count": 74
        }
      ]
    },
    {
      "cell_type": "code",
      "metadata": {
        "colab": {
          "base_uri": "https://localhost:8080/",
          "height": 411
        },
        "id": "H5TcxFUkxmDM",
        "outputId": "966c5f67-c47d-4f97-e4a2-0c62c1f069b4"
      },
      "source": [
        "sns.set(style=\"white\")\n",
        "import matplotlib.ticker as mtick\n",
        "ax1 = sns.lineplot(data=gain_df, x='Decile', y='Decile', color='blue', label = 'Gain (Without Model)', marker=\"o\")\n",
        "ax2 = plt.twinx()\n",
        "sns.lineplot(data=gain_df, x='Decile', y='Gain', color='red', linewidth=2.5, label = 'Gain (With Model)', marker=\"o\")\n",
        "ax1.legend(loc='upper left', bbox_to_anchor=(0, 1))\n",
        "ax2.legend(loc=\"lower left\", bbox_to_anchor=(0, 0.8))\n",
        "ax1.set_ylabel('% Targets')\n",
        "ax1.set_xlabel('% Population')\n",
        "ax1.set_xticklabels(['{:,.0%}'.format(x) for x in ax1.get_xticks()])\n",
        "ax1.set_yticklabels(['{:,.0%}'.format(x) for x in ax1.get_yticks()])\n",
        "ax1.set_ylim(0, 1.05)\n",
        "ax2.set_ylim(0, 1.05)"
      ],
      "execution_count": 75,
      "outputs": [
        {
          "output_type": "execute_result",
          "data": {
            "text/plain": [
              "(0.0, 1.05)"
            ]
          },
          "metadata": {},
          "execution_count": 75
        },
        {
          "output_type": "display_data",
          "data": {
            "image/png": "[encoded data removed]",
            "text/plain": [
              "<Figure size 864x432 with 2 Axes>"
            ]
          },
          "metadata": {}
        }
      ]
    },
    {
      "cell_type": "code",
      "metadata": {
        "colab": {
          "base_uri": "https://localhost:8080/",
          "height": 359
        },
        "id": "wgD0Ljy5091u",
        "outputId": "fbdff9de-705e-43b5-e7c4-6e6f8aced05f"
      },
      "source": [
        "num_positives = (y_test==1).sum()\n",
        "decile = [i * 0.1 for i in list(range(1, 11))]\n",
        "cumulative_positive_response_without_model = [num_positives * i for i in decile]\n",
        "positive_response_using_model = [(X_test.loc[len(X_test) * (i - 0.1) : len(X_test) * i, 'true_y'] == 1).sum() for i in decile]\n",
        "cumulative_positive_response_using_model = [(X_test.loc[0 : len(X_test) * i, 'true_y'] == 1).sum() for i in decile]\n",
        "\n",
        "lift_df = pd.DataFrame(data={'Decile': decile,\n",
        "                             'Cumulative Positive Response without Model [A]': cumulative_positive_response_without_model,\n",
        "                             'Positive Response using Model': positive_response_using_model,\n",
        "                             'Cumulative Positive Response using Model [B]': cumulative_positive_response_using_model})\n",
        "\n",
        "lift_df['Gain'] = np.cumsum(lift_df['Positive Response using Model'] / num_positives)\n",
        "lift_df['Lift [B/A]'] = lift_df['Cumulative Positive Response using Model [B]'] / lift_df['Cumulative Positive Response without Model [A]']\n",
        "lift_df['Gain'] = round(lift_df['Gain'], 2)\n",
        "lift_df['Lift [B/A]'] = round(lift_df['Lift [B/A]'], 2)\n",
        "lift_df.style.set_table_styles([dict(selector=\"th\",props=[('max-width', '30px')])])\n",
        "lift_df"
      ],
      "execution_count": 86,
      "outputs": [
        {
          "output_type": "execute_result",
          "data": {
            "text/html": [
              "<div>\n",
              "<style scoped>\n",
              "    .dataframe tbody tr th:only-of-type {\n",
              "        vertical-align: middle;\n",
              "    }\n",
              "\n",
              "    .dataframe tbody tr th {\n",
              "        vertical-align: top;\n",
              "    }\n",
              "\n",
              "    .dataframe thead th {\n",
              "        text-align: right;\n",
              "    }\n",
              "</style>\n",
              "<table border=\"1\" class=\"dataframe\">\n",
              "  <thead>\n",
              "    <tr style=\"text-align: right;\">\n",
              "      <th></th>\n",
              "      <th>Decile</th>\n",
              "      <th>Cumulative Positive Response without Model [A]</th>\n",
              "      <th>Positive Response using Model</th>\n",
              "      <th>Cumulative Positive Response using Model [B]</th>\n",
              "      <th>Gain</th>\n",
              "      <th>Lift [B/A]</th>\n",
              "    </tr>\n",
              "  </thead>\n",
              "  <tbody>\n",
              "    <tr>\n",
              "      <th>0</th>\n",
              "      <td>0.1</td>\n",
              "      <td>13.5</td>\n",
              "      <td>27</td>\n",
              "      <td>27</td>\n",
              "      <td>0.20</td>\n",
              "      <td>2.00</td>\n",
              "    </tr>\n",
              "    <tr>\n",
              "      <th>1</th>\n",
              "      <td>0.2</td>\n",
              "      <td>27.0</td>\n",
              "      <td>24</td>\n",
              "      <td>51</td>\n",
              "      <td>0.38</td>\n",
              "      <td>1.89</td>\n",
              "    </tr>\n",
              "    <tr>\n",
              "      <th>2</th>\n",
              "      <td>0.3</td>\n",
              "      <td>40.5</td>\n",
              "      <td>14</td>\n",
              "      <td>65</td>\n",
              "      <td>0.48</td>\n",
              "      <td>1.60</td>\n",
              "    </tr>\n",
              "    <tr>\n",
              "      <th>3</th>\n",
              "      <td>0.4</td>\n",
              "      <td>54.0</td>\n",
              "      <td>12</td>\n",
              "      <td>77</td>\n",
              "      <td>0.57</td>\n",
              "      <td>1.43</td>\n",
              "    </tr>\n",
              "    <tr>\n",
              "      <th>4</th>\n",
              "      <td>0.5</td>\n",
              "      <td>67.5</td>\n",
              "      <td>11</td>\n",
              "      <td>88</td>\n",
              "      <td>0.65</td>\n",
              "      <td>1.30</td>\n",
              "    </tr>\n",
              "    <tr>\n",
              "      <th>5</th>\n",
              "      <td>0.6</td>\n",
              "      <td>81.0</td>\n",
              "      <td>10</td>\n",
              "      <td>98</td>\n",
              "      <td>0.73</td>\n",
              "      <td>1.21</td>\n",
              "    </tr>\n",
              "    <tr>\n",
              "      <th>6</th>\n",
              "      <td>0.7</td>\n",
              "      <td>94.5</td>\n",
              "      <td>14</td>\n",
              "      <td>112</td>\n",
              "      <td>0.83</td>\n",
              "      <td>1.19</td>\n",
              "    </tr>\n",
              "    <tr>\n",
              "      <th>7</th>\n",
              "      <td>0.8</td>\n",
              "      <td>108.0</td>\n",
              "      <td>10</td>\n",
              "      <td>122</td>\n",
              "      <td>0.90</td>\n",
              "      <td>1.13</td>\n",
              "    </tr>\n",
              "    <tr>\n",
              "      <th>8</th>\n",
              "      <td>0.9</td>\n",
              "      <td>121.5</td>\n",
              "      <td>8</td>\n",
              "      <td>130</td>\n",
              "      <td>0.96</td>\n",
              "      <td>1.07</td>\n",
              "    </tr>\n",
              "    <tr>\n",
              "      <th>9</th>\n",
              "      <td>1.0</td>\n",
              "      <td>135.0</td>\n",
              "      <td>5</td>\n",
              "      <td>135</td>\n",
              "      <td>1.00</td>\n",
              "      <td>1.00</td>\n",
              "    </tr>\n",
              "  </tbody>\n",
              "</table>\n",
              "</div>"
            ],
            "text/plain": [
              "   Decile  Cumulative Positive Response without Model [A]  ...  Gain  Lift [B/A]\n",
              "0     0.1                                            13.5  ...  0.20        2.00\n",
              "1     0.2                                            27.0  ...  0.38        1.89\n",
              "2     0.3                                            40.5  ...  0.48        1.60\n",
              "3     0.4                                            54.0  ...  0.57        1.43\n",
              "4     0.5                                            67.5  ...  0.65        1.30\n",
              "5     0.6                                            81.0  ...  0.73        1.21\n",
              "6     0.7                                            94.5  ...  0.83        1.19\n",
              "7     0.8                                           108.0  ...  0.90        1.13\n",
              "8     0.9                                           121.5  ...  0.96        1.07\n",
              "9     1.0                                           135.0  ...  1.00        1.00\n",
              "\n",
              "[10 rows x 6 columns]"
            ]
          },
          "metadata": {},
          "execution_count": 86
        }
      ]
    },
    {
      "cell_type": "code",
      "metadata": {
        "id": "EGDBuY2i1WGz",
        "colab": {
          "base_uri": "https://localhost:8080/",
          "height": 411
        },
        "outputId": "81c14bdd-41ca-4125-cd59-0e4f4c7dbf7c"
      },
      "source": [
        "ax = sns.lineplot(data=lift_df, x='Decile', y='Lift [B/A]', color='blue', linewidth=2.5, label='Lift (With Model)',\n",
        "                  marker=\"o\")\n",
        "plt.axhline(y=1, color='red', linewidth=2.5, label='Lift (Without Model)')\n",
        "plt.ylabel('Lift')\n",
        "ax.set_xlabel('% Population')\n",
        "ax.set_xticklabels(['{:,.0%}'.format(x) for x in ax.get_xticks()])\n",
        "plt.legend()"
      ],
      "execution_count": 77,
      "outputs": [
        {
          "output_type": "execute_result",
          "data": {
            "text/plain": [
              "<matplotlib.legend.Legend at 0x7fd296258350>"
            ]
          },
          "metadata": {},
          "execution_count": 77
        },
        {
          "output_type": "display_data",
          "data": {
            "image/png": "[encoded data removed]",
            "text/plain": [
              "<Figure size 864x432 with 1 Axes>"
            ]
          },
          "metadata": {}
        }
      ]
    },
    {
      "cell_type": "code",
      "metadata": {
        "id": "uboV8pM65SJD"
      },
      "source": [
        "def calculate_revenue(yes, no):\n",
        "    revenue = 100 * yes\n",
        "    cost_support = 25 * yes\n",
        "    cost_mkt = 5 * (yes + no)\n",
        "    return revenue - cost_support - cost_mkt\n",
        "\n",
        "net_revenue = []\n",
        "cut_off_list = [i * 0.01 for i in range(1, 100)]\n",
        "for cut_off_point in cut_off_list:\n",
        "    response_arr = X_test[X_test['prob_y'] > cut_off_point]['true_y']\n",
        "    yes = (response_arr == 1).sum()\n",
        "    no = (response_arr == 0).sum()\n",
        "    net_revenue.append(calculate_revenue(yes, no))"
      ],
      "execution_count": 78,
      "outputs": []
    },
    {
      "cell_type": "code",
      "metadata": {
        "colab": {
          "base_uri": "https://localhost:8080/",
          "height": 411
        },
        "id": "BNhzmZ_o3y77",
        "outputId": "cbeacc4a-84b7-4427-b7b0-5a10661eab21"
      },
      "source": [
        "ax = sns.lineplot(x=cut_off_list, y=net_revenue)\n",
        "plt.axvline(x=cut_off_list[net_revenue.index(max(net_revenue))], color='k', linestyle='--')\n",
        "ax.set_xticks([0.07, 0.2, 0.4, 0.6, 0.8, 1])\n",
        "plt.ylabel('Net Revenue')\n",
        "plt.xlabel('Cut-off point')"
      ],
      "execution_count": 82,
      "outputs": [
        {
          "output_type": "execute_result",
          "data": {
            "text/plain": [
              "Text(0.5, 0, 'Cut-off point')"
            ]
          },
          "metadata": {},
          "execution_count": 82
        },
        {
          "output_type": "display_data",
          "data": {
            "image/png": "[encoded data removed]",
            "text/plain": [
              "<Figure size 864x432 with 1 Axes>"
            ]
          },
          "metadata": {}
        }
      ]
    },
    {
      "cell_type": "code",
      "metadata": {
        "id": "UCqD_Uxi3-qk"
      },
      "source": [
        "gain_df.to_csv('gain_df.csv')\n",
        "lift_df.to_csv('lift_df.csv')"
      ],
      "execution_count": 80,
      "outputs": []
    },
    {
      "cell_type": "code",
      "metadata": {
        "colab": {
          "base_uri": "https://localhost:8080/"
        },
        "id": "VU662dgF6C5o",
        "outputId": "b578cfcc-b0ec-4ae9-dcf0-ea4c484f350d"
      },
      "source": [
        "net_revenue[:10]"
      ],
      "execution_count": 81,
      "outputs": [
        {
          "output_type": "execute_result",
          "data": {
            "text/plain": [
              "[4470, 4470, 4470, 4470, 4475, 4510, 4755, 4475, 3885, 3480]"
            ]
          },
          "metadata": {},
          "execution_count": 81
        }
      ]
    },
    {
      "cell_type": "code",
      "metadata": {
        "colab": {
          "base_uri": "https://localhost:8080/"
        },
        "id": "AfxZuFt83-fK",
        "outputId": "38e8fe1d-f814-40b9-a405-afaa3006816c"
      },
      "source": [
        "(X_test['prob_y'] >= 0.07).sum()/len(X_test)"
      ],
      "execution_count": 90,
      "outputs": [
        {
          "output_type": "execute_result",
          "data": {
            "text/plain": [
              "0.870026525198939"
            ]
          },
          "metadata": {},
          "execution_count": 90
        }
      ]
    },
    {
      "cell_type": "code",
      "metadata": {
        "id": "_6yXQGxhSV7a"
      },
      "source": [
        ""
      ],
      "execution_count": null,
      "outputs": []
    }
  ]
}